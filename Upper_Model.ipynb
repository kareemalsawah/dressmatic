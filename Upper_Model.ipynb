{
  "nbformat": 4,
  "nbformat_minor": 0,
  "metadata": {
    "colab": {
      "name": "Upper_Model.ipynb",
      "version": "0.3.2",
      "provenance": []
    },
    "kernelspec": {
      "name": "python3",
      "display_name": "Python 3"
    },
    "accelerator": "GPU"
  },
  "cells": [
    {
      "cell_type": "code",
      "metadata": {
        "id": "48D5TZz2cO3c",
        "colab_type": "code",
        "outputId": "1e319129-6def-447e-c381-5dddc9bc27a8",
        "colab": {
          "base_uri": "https://localhost:8080/",
          "height": 121
        }
      },
      "source": [
        "from google.colab import drive\n",
        "drive.mount('/content/drive')"
      ],
      "execution_count": 0,
      "outputs": [
        {
          "output_type": "stream",
          "text": [
            "Go to this URL in a browser: https://accounts.google.com/o/oauth2/auth?client_id=947318989803-6bn6qk8qdgf4n4g3pfee6491hc0brc4i.apps.googleusercontent.com&redirect_uri=urn%3Aietf%3Awg%3Aoauth%3A2.0%3Aoob&scope=email%20https%3A%2F%2Fwww.googleapis.com%2Fauth%2Fdocs.test%20https%3A%2F%2Fwww.googleapis.com%2Fauth%2Fdrive%20https%3A%2F%2Fwww.googleapis.com%2Fauth%2Fdrive.photos.readonly%20https%3A%2F%2Fwww.googleapis.com%2Fauth%2Fpeopleapi.readonly&response_type=code\n",
            "\n",
            "Enter your authorization code:\n",
            "··········\n",
            "Mounted at /content/drive\n"
          ],
          "name": "stdout"
        }
      ]
    },
    {
      "cell_type": "code",
      "metadata": {
        "id": "CI0OLycqb8aj",
        "colab_type": "code",
        "colab": {}
      },
      "source": [
        "!unzip -q /content/drive/My\\ Drive/upper_zip.zip"
      ],
      "execution_count": 0,
      "outputs": []
    },
    {
      "cell_type": "code",
      "metadata": {
        "id": "WUsuHwROBJw-",
        "colab_type": "code",
        "colab": {}
      },
      "source": [
        "!rm -r /content/upper/1"
      ],
      "execution_count": 0,
      "outputs": []
    },
    {
      "cell_type": "code",
      "metadata": {
        "id": "sD0o7dkKBYp3",
        "colab_type": "code",
        "outputId": "96aea14d-915f-4e8e-aeec-1f39f73522cd",
        "colab": {
          "base_uri": "https://localhost:8080/",
          "height": 84
        }
      },
      "source": [
        "from glob import glob\n",
        "import numpy as np\n",
        "\n",
        "for i in range(0,4):\n",
        "  to_test_dir = \"/content/upper_new/\"+str(i)+\"/*\"\n",
        "  arr = np.array(glob(to_test_dir))\n",
        "  print(arr.shape)"
      ],
      "execution_count": 0,
      "outputs": [
        {
          "output_type": "stream",
          "text": [
            "(4308,)\n",
            "(4308,)\n",
            "(4308,)\n",
            "(4308,)\n"
          ],
          "name": "stdout"
        }
      ]
    },
    {
      "cell_type": "code",
      "metadata": {
        "id": "bRg0ctUoEzky",
        "colab_type": "code",
        "outputId": "3d2d6cf8-3921-408b-da6e-b667a503e2a3",
        "colab": {
          "base_uri": "https://localhost:8080/",
          "height": 34
        }
      },
      "source": [
        "to_test_dir = \"/content/upper_temp/*\"\n",
        "arr = np.array(glob(to_test_dir))\n",
        "print(arr.shape)"
      ],
      "execution_count": 0,
      "outputs": [
        {
          "output_type": "stream",
          "text": [
            "(6012,)\n"
          ],
          "name": "stdout"
        }
      ]
    },
    {
      "cell_type": "code",
      "metadata": {
        "id": "QRMAeotuCEqw",
        "colab_type": "code",
        "colab": {}
      },
      "source": [
        "!mkdir upper_temp"
      ],
      "execution_count": 0,
      "outputs": []
    },
    {
      "cell_type": "code",
      "metadata": {
        "id": "Zg-0J8wgCG48",
        "colab_type": "code",
        "colab": {}
      },
      "source": [
        "import shutil\n",
        "\n",
        "min_num = 4308\n",
        "to_move = np.random.permutation(np.array(glob(\"/content/upper_temp/*\")))\n",
        "for file in to_move[:min_num]:\n",
        "  shutil.move(file,\"/content/upper_new/0\")"
      ],
      "execution_count": 0,
      "outputs": []
    },
    {
      "cell_type": "code",
      "metadata": {
        "id": "jHsMtoeBFMTA",
        "colab_type": "code",
        "colab": {}
      },
      "source": [
        "!zip -r -q upper_new_zip upper_new/ *.jpg"
      ],
      "execution_count": 0,
      "outputs": []
    },
    {
      "cell_type": "code",
      "metadata": {
        "id": "vPUVaBEMGD1g",
        "colab_type": "code",
        "colab": {}
      },
      "source": [
        "!mv upper_new_zip.zip /content/drive/My\\ Drive/"
      ],
      "execution_count": 0,
      "outputs": []
    },
    {
      "cell_type": "code",
      "metadata": {
        "id": "lReux7wLcfwf",
        "colab_type": "code",
        "outputId": "856fc23a-a71c-4f77-c694-762814f3fb3d",
        "colab": {
          "base_uri": "https://localhost:8080/",
          "height": 104
        }
      },
      "source": [
        "!pip install split-folders"
      ],
      "execution_count": 0,
      "outputs": [
        {
          "output_type": "stream",
          "text": [
            "Collecting split-folders\n",
            "  Downloading https://files.pythonhosted.org/packages/32/d3/3714dfcf4145d5afe49101a9ed36659c3832c1e9b4d09d45e5cbb736ca3f/split_folders-0.2.3-py3-none-any.whl\n",
            "Installing collected packages: split-folders\n",
            "Successfully installed split-folders-0.2.3\n"
          ],
          "name": "stdout"
        }
      ]
    },
    {
      "cell_type": "code",
      "metadata": {
        "id": "09vDtJmLb9kT",
        "colab_type": "code",
        "colab": {}
      },
      "source": [
        "import split_folders\n",
        "split_folders.ratio(\"/content/upper_new\",output=\"/content/upper_data\",ratio=(.7,.1,.2))"
      ],
      "execution_count": 0,
      "outputs": []
    },
    {
      "cell_type": "code",
      "metadata": {
        "id": "0vrRt72Rb9mp",
        "colab_type": "code",
        "outputId": "53dcb100-2da6-4342-e3d0-6e56ad5a2eeb",
        "colab": {
          "base_uri": "https://localhost:8080/",
          "height": 34
        }
      },
      "source": [
        "import torch\n",
        "torch.cuda.current_device()"
      ],
      "execution_count": 0,
      "outputs": [
        {
          "output_type": "execute_result",
          "data": {
            "text/plain": [
              "0"
            ]
          },
          "metadata": {
            "tags": []
          },
          "execution_count": 30
        }
      ]
    },
    {
      "cell_type": "code",
      "metadata": {
        "id": "2RyuWx8eb9pA",
        "colab_type": "code",
        "colab": {}
      },
      "source": [
        "import torch.nn as nn\n",
        "from torchvision import datasets\n",
        "from torchvision.transforms import transforms\n",
        "import torchvision.models as models\n",
        "import numpy as np\n",
        "from tqdm import tqdm\n",
        "from PIL import Image\n",
        "from PIL import ImageFile\n",
        "use_cuda = torch.cuda.is_available()"
      ],
      "execution_count": 0,
      "outputs": []
    },
    {
      "cell_type": "code",
      "metadata": {
        "id": "CsE_mX_ib9ri",
        "colab_type": "code",
        "colab": {}
      },
      "source": [
        "img_std = [0.229,0.224,0.225]\n",
        "img_mean = [0.485,0.456,0.406]\n",
        "batch_size = 32\n",
        "\n",
        "train_transforms = transforms.Compose([\n",
        "                                transforms.ToTensor(),\n",
        "                                transforms.Normalize(img_mean,img_std)\n",
        "                                     ])\n",
        "train_dir = \"/content/upper_data/train\"\n",
        "valid_dir = \"/content/upper_data/val\"\n",
        "test_dir = \"/content/upper_data/test\"\n",
        "\n",
        "train_dataset = datasets.ImageFolder(train_dir,transform=train_transforms)\n",
        "valid_dataset = datasets.ImageFolder(valid_dir,transform=train_transforms)\n",
        "test_dataset = datasets.ImageFolder(test_dir,transform=train_transforms)\n",
        "\n",
        "trainloader = torch.utils.data.DataLoader(train_dataset,batch_size=batch_size,shuffle=True)\n",
        "validloader = torch.utils.data.DataLoader(valid_dataset,batch_size=batch_size,shuffle=True)\n",
        "testloader = torch.utils.data.DataLoader(test_dataset,batch_size=batch_size,shuffle=True)\n",
        "\n",
        "loaders = {\n",
        "    'train':trainloader,\n",
        "    'valid':validloader,\n",
        "    'test':testloader\n",
        "}"
      ],
      "execution_count": 0,
      "outputs": []
    },
    {
      "cell_type": "code",
      "metadata": {
        "id": "N7CMJobWb9tO",
        "colab_type": "code",
        "outputId": "780d72a3-055c-4577-eba9-3d18d947f99d",
        "colab": {
          "base_uri": "https://localhost:8080/",
          "height": 50
        }
      },
      "source": [
        "class UpperModel(nn.Module):\n",
        "  def __init__(self):\n",
        "    super().__init__()\n",
        "    self.encoder_net = models.resnet101(pretrained=True)\n",
        "    self.encoder_net = nn.Sequential(*list(self.encoder_net.children())[:-1])\n",
        "    \n",
        "    self.fc1 = nn.Sequential(nn.Dropout(0.45),\n",
        "                            nn.Linear(2048,256),\n",
        "                            nn.BatchNorm1d(num_features=256),\n",
        "                            nn.ReLU(True),\n",
        "                            nn.Dropout(0.2),\n",
        "                            nn.Linear(256,4),\n",
        "                            nn.LogSoftmax(dim=1))\n",
        "    \n",
        "  def forward(self,x):\n",
        "    encoding = self.encoder_net(x).view((-1,2048))\n",
        "    preds = self.fc1(encoding)\n",
        "\n",
        "    return preds\n",
        "    \n",
        "model = UpperModel()\n",
        "if use_cuda:\n",
        "  model.cuda()"
      ],
      "execution_count": 0,
      "outputs": [
        {
          "output_type": "stream",
          "text": [
            "Downloading: \"https://download.pytorch.org/models/resnet101-5d3b4d8f.pth\" to /root/.cache/torch/checkpoints/resnet101-5d3b4d8f.pth\n",
            "100%|██████████| 178728960/178728960 [00:18<00:00, 9833730.06it/s] \n"
          ],
          "name": "stderr"
        }
      ]
    },
    {
      "cell_type": "code",
      "metadata": {
        "id": "pYmZzkcxb9vQ",
        "colab_type": "code",
        "colab": {}
      },
      "source": [
        "import torch.optim as optim\n",
        "\n",
        "criterion = nn.NLLLoss()\n",
        "\n",
        "optimizer = optim.Adam(model.parameters(),lr=0.001)\n",
        "scheduler = optim.lr_scheduler.StepLR(optimizer,step_size=3,gamma=0.2)"
      ],
      "execution_count": 0,
      "outputs": []
    },
    {
      "cell_type": "code",
      "metadata": {
        "id": "NK_cbw5Bb9xZ",
        "colab_type": "code",
        "colab": {}
      },
      "source": [
        "def train(n_epochs,model,criterion,optimizer,scheduler,loaders,use_cuda,save_path):\n",
        "  valid_loss_min = np.Inf\n",
        "  valid_acc_min = 0\n",
        "  \n",
        "  for epoch in range(1,n_epochs+1):\n",
        "    valid_loss = 0\n",
        "    train_loss = 0\n",
        "    valid_corrects = 0\n",
        "    train_corrects = 0\n",
        "    \n",
        "    scheduler.step()\n",
        "    \n",
        "    # Training loop\n",
        "    model.train()\n",
        "    for data,target in tqdm(loaders['train']):\n",
        "      if use_cuda:\n",
        "        data,target = data.cuda(),target.cuda()\n",
        "        \n",
        "      optimizer.zero_grad()\n",
        "      \n",
        "      output = model(data)\n",
        "      \n",
        "      loss = criterion(output,target)\n",
        "      \n",
        "      loss.backward()\n",
        "      \n",
        "      optimizer.step()\n",
        "      \n",
        "      train_loss += loss.item()\n",
        "      \n",
        "      pred = output.data.max(1,keepdim=True)[1]\n",
        "      train_corrects += np.sum(np.squeeze(pred.eq(target.data.view_as(pred))).cpu().numpy())\n",
        "      \n",
        "    \n",
        "    #Validation loop\n",
        "    model.eval()\n",
        "    for data,target in tqdm(loaders['valid']):\n",
        "      if use_cuda:\n",
        "        data,target = data.cuda(),target.cuda()\n",
        "       \n",
        "      with torch.no_grad():\n",
        "        output = model(data)\n",
        "      \n",
        "      loss = criterion(output,target)\n",
        "      \n",
        "      valid_loss += loss.item()\n",
        "      \n",
        "      pred = output.data.max(1,keepdim=True)[1]\n",
        "      valid_corrects += np.sum(np.squeeze(pred.eq(target.data.view_as(pred))).cpu().numpy())\n",
        "    \n",
        "    valid_loss = valid_loss / len(loaders['valid'])\n",
        "    train_loss = train_loss / len(loaders['train'])\n",
        "    valid_accuracy = valid_corrects / (len(loaders['valid'])*batch_size)\n",
        "    train_accuracy = train_corrects / (len(loaders['train'])*batch_size)\n",
        "      \n",
        "    #Print epoch details\n",
        "    print(\"Epoch: {}, Training loss: {}, Training accuracy: {}, Valid loss: {}, Valid accuracy; {}\".format(epoch,train_loss,train_accuracy,valid_loss,valid_accuracy))\n",
        "    \n",
        "    if valid_loss < valid_loss_min:\n",
        "      valid_loss_min = valid_loss\n",
        "      valid_acc_min = valid_accuracy\n",
        "      checkpoint = model.state_dict()\n",
        "      torch.save(checkpoint,save_path)\n",
        "      \n",
        "  print(\"The best model had a validation loss of {} and an accuracy of {}\".format(valid_loss_min,valid_acc_min))"
      ],
      "execution_count": 0,
      "outputs": []
    },
    {
      "cell_type": "code",
      "metadata": {
        "id": "f2lwMfvWb9zb",
        "colab_type": "code",
        "outputId": "2ed69f80-232b-4f97-99e9-1b7fd9d92fb5",
        "colab": {
          "base_uri": "https://localhost:8080/",
          "height": 995
        }
      },
      "source": [
        "model = train(15,model,criterion,optimizer,scheduler,loaders,use_cuda,\"/content/drive/My Drive/upper_5.pt\")"
      ],
      "execution_count": 0,
      "outputs": [
        {
          "output_type": "stream",
          "text": [
            "100%|██████████| 377/377 [08:11<00:00,  1.27s/it]\n",
            "100%|██████████| 54/54 [00:23<00:00,  2.44it/s]\n"
          ],
          "name": "stderr"
        },
        {
          "output_type": "stream",
          "text": [
            "Epoch: 1, Training loss: 0.7882696392523515, Training accuracy: 0.7106266578249337, Valid loss: 0.9446697003311582, Valid accuracy; 0.6446759259259259\n"
          ],
          "name": "stdout"
        },
        {
          "output_type": "stream",
          "text": [
            "100%|██████████| 377/377 [08:11<00:00,  1.27s/it]\n",
            "100%|██████████| 54/54 [00:22<00:00,  2.44it/s]\n"
          ],
          "name": "stderr"
        },
        {
          "output_type": "stream",
          "text": [
            "Epoch: 2, Training loss: 0.6374319532505713, Training accuracy: 0.7700596816976127, Valid loss: 0.6765265393036383, Valid accuracy; 0.7528935185185185\n"
          ],
          "name": "stdout"
        },
        {
          "output_type": "stream",
          "text": [
            "100%|██████████| 377/377 [08:12<00:00,  1.27s/it]\n",
            "100%|██████████| 54/54 [00:22<00:00,  2.44it/s]\n"
          ],
          "name": "stderr"
        },
        {
          "output_type": "stream",
          "text": [
            "Epoch: 3, Training loss: 0.47470762550988943, Training accuracy: 0.8338859416445623, Valid loss: 0.48897000760943804, Valid accuracy; 0.8252314814814815\n"
          ],
          "name": "stdout"
        },
        {
          "output_type": "stream",
          "text": [
            "100%|██████████| 377/377 [08:13<00:00,  1.27s/it]\n",
            "100%|██████████| 54/54 [00:22<00:00,  2.41it/s]\n"
          ],
          "name": "stderr"
        },
        {
          "output_type": "stream",
          "text": [
            "Epoch: 4, Training loss: 0.39483652291547716, Training accuracy: 0.8648872679045093, Valid loss: 0.4780755462469878, Valid accuracy; 0.828125\n"
          ],
          "name": "stdout"
        },
        {
          "output_type": "stream",
          "text": [
            "100%|██████████| 377/377 [08:13<00:00,  1.26s/it]\n",
            "100%|██████████| 54/54 [00:22<00:00,  2.44it/s]\n",
            "  0%|          | 0/377 [00:00<?, ?it/s]"
          ],
          "name": "stderr"
        },
        {
          "output_type": "stream",
          "text": [
            "Epoch: 5, Training loss: 0.3384094639466359, Training accuracy: 0.8842838196286472, Valid loss: 0.48386772804790074, Valid accuracy; 0.8356481481481481\n"
          ],
          "name": "stdout"
        },
        {
          "output_type": "stream",
          "text": [
            "100%|██████████| 377/377 [08:14<00:00,  1.28s/it]\n",
            "100%|██████████| 54/54 [00:22<00:00,  2.45it/s]\n"
          ],
          "name": "stderr"
        },
        {
          "output_type": "stream",
          "text": [
            "Epoch: 6, Training loss: 0.23056141858233697, Training accuracy: 0.9249834217506632, Valid loss: 0.42307735572534577, Valid accuracy; 0.8587962962962963\n"
          ],
          "name": "stdout"
        },
        {
          "output_type": "stream",
          "text": [
            "100%|██████████| 377/377 [08:13<00:00,  1.27s/it]\n",
            "100%|██████████| 54/54 [00:22<00:00,  2.48it/s]\n",
            "  0%|          | 0/377 [00:00<?, ?it/s]"
          ],
          "name": "stderr"
        },
        {
          "output_type": "stream",
          "text": [
            "Epoch: 7, Training loss: 0.1785706970198401, Training accuracy: 0.9451259946949602, Valid loss: 0.44554438993886664, Valid accuracy; 0.859375\n"
          ],
          "name": "stdout"
        },
        {
          "output_type": "stream",
          "text": [
            "100%|██████████| 377/377 [08:13<00:00,  1.27s/it]\n",
            "100%|██████████| 54/54 [00:23<00:00,  2.39it/s]\n",
            "  0%|          | 0/377 [00:00<?, ?it/s]"
          ],
          "name": "stderr"
        },
        {
          "output_type": "stream",
          "text": [
            "Epoch: 8, Training loss: 0.14026174308924838, Training accuracy: 0.9573110079575596, Valid loss: 0.46356108384551825, Valid accuracy; 0.8576388888888888\n"
          ],
          "name": "stdout"
        },
        {
          "output_type": "stream",
          "text": [
            "100%|██████████| 377/377 [08:12<00:00,  1.28s/it]\n",
            "100%|██████████| 54/54 [00:22<00:00,  2.42it/s]\n",
            "  0%|          | 0/377 [00:00<?, ?it/s]"
          ],
          "name": "stderr"
        },
        {
          "output_type": "stream",
          "text": [
            "Epoch: 9, Training loss: 0.10271866845871157, Training accuracy: 0.9738063660477454, Valid loss: 0.46895414618430314, Valid accuracy; 0.8553240740740741\n"
          ],
          "name": "stdout"
        },
        {
          "output_type": "stream",
          "text": [
            "100%|██████████| 377/377 [08:13<00:00,  1.27s/it]\n",
            "100%|██████████| 54/54 [00:22<00:00,  2.45it/s]\n",
            "  0%|          | 0/377 [00:00<?, ?it/s]"
          ],
          "name": "stderr"
        },
        {
          "output_type": "stream",
          "text": [
            "Epoch: 10, Training loss: 0.09103155534329085, Training accuracy: 0.9766246684350133, Valid loss: 0.4652937493390507, Valid accuracy; 0.8587962962962963\n"
          ],
          "name": "stdout"
        },
        {
          "output_type": "stream",
          "text": [
            "100%|██████████| 377/377 [08:14<00:00,  1.27s/it]\n",
            "100%|██████████| 54/54 [00:23<00:00,  2.43it/s]\n",
            "  0%|          | 0/377 [00:00<?, ?it/s]"
          ],
          "name": "stderr"
        },
        {
          "output_type": "stream",
          "text": [
            "Epoch: 11, Training loss: 0.08226339618826102, Training accuracy: 0.9809350132625995, Valid loss: 0.4753690524785607, Valid accuracy; 0.8570601851851852\n"
          ],
          "name": "stdout"
        },
        {
          "output_type": "stream",
          "text": [
            "100%|██████████| 377/377 [08:12<00:00,  1.26s/it]\n",
            "100%|██████████| 54/54 [00:22<00:00,  2.43it/s]\n",
            "  0%|          | 0/377 [00:00<?, ?it/s]"
          ],
          "name": "stderr"
        },
        {
          "output_type": "stream",
          "text": [
            "Epoch: 12, Training loss: 0.07401622215221668, Training accuracy: 0.9823441644562334, Valid loss: 0.4876468843883938, Valid accuracy; 0.8587962962962963\n"
          ],
          "name": "stdout"
        },
        {
          "output_type": "stream",
          "text": [
            "100%|██████████| 377/377 [08:12<00:00,  1.27s/it]\n",
            "100%|██████████| 54/54 [00:22<00:00,  2.43it/s]\n",
            "  0%|          | 0/377 [00:00<?, ?it/s]"
          ],
          "name": "stderr"
        },
        {
          "output_type": "stream",
          "text": [
            "Epoch: 13, Training loss: 0.07373604034160113, Training accuracy: 0.9828415119363395, Valid loss: 0.4866600828590216, Valid accuracy; 0.8541666666666666\n"
          ],
          "name": "stdout"
        },
        {
          "output_type": "stream",
          "text": [
            " 72%|███████▏  | 273/377 [05:55<02:15,  1.31s/it]"
          ],
          "name": "stderr"
        },
        {
          "output_type": "error",
          "ename": "KeyboardInterrupt",
          "evalue": "ignored",
          "traceback": [
            "\u001b[0;31m---------------------------------------------------------------------------\u001b[0m",
            "\u001b[0;31mKeyboardInterrupt\u001b[0m                         Traceback (most recent call last)",
            "\u001b[0;32m<ipython-input-36-5ab974359e86>\u001b[0m in \u001b[0;36m<module>\u001b[0;34m()\u001b[0m\n\u001b[0;32m----> 1\u001b[0;31m \u001b[0mmodel\u001b[0m \u001b[0;34m=\u001b[0m \u001b[0mtrain\u001b[0m\u001b[0;34m(\u001b[0m\u001b[0;36m15\u001b[0m\u001b[0;34m,\u001b[0m\u001b[0mmodel\u001b[0m\u001b[0;34m,\u001b[0m\u001b[0mcriterion\u001b[0m\u001b[0;34m,\u001b[0m\u001b[0moptimizer\u001b[0m\u001b[0;34m,\u001b[0m\u001b[0mscheduler\u001b[0m\u001b[0;34m,\u001b[0m\u001b[0mloaders\u001b[0m\u001b[0;34m,\u001b[0m\u001b[0muse_cuda\u001b[0m\u001b[0;34m,\u001b[0m\u001b[0;34m\"/content/drive/My Drive/upper_5.pt\"\u001b[0m\u001b[0;34m)\u001b[0m\u001b[0;34m\u001b[0m\u001b[0;34m\u001b[0m\u001b[0m\n\u001b[0m",
            "\u001b[0;32m<ipython-input-35-2942395dcd9b>\u001b[0m in \u001b[0;36mtrain\u001b[0;34m(n_epochs, model, criterion, optimizer, scheduler, loaders, use_cuda, save_path)\u001b[0m\n\u001b[1;32m     25\u001b[0m       \u001b[0mloss\u001b[0m\u001b[0;34m.\u001b[0m\u001b[0mbackward\u001b[0m\u001b[0;34m(\u001b[0m\u001b[0;34m)\u001b[0m\u001b[0;34m\u001b[0m\u001b[0;34m\u001b[0m\u001b[0m\n\u001b[1;32m     26\u001b[0m \u001b[0;34m\u001b[0m\u001b[0m\n\u001b[0;32m---> 27\u001b[0;31m       \u001b[0moptimizer\u001b[0m\u001b[0;34m.\u001b[0m\u001b[0mstep\u001b[0m\u001b[0;34m(\u001b[0m\u001b[0;34m)\u001b[0m\u001b[0;34m\u001b[0m\u001b[0;34m\u001b[0m\u001b[0m\n\u001b[0m\u001b[1;32m     28\u001b[0m \u001b[0;34m\u001b[0m\u001b[0m\n\u001b[1;32m     29\u001b[0m       \u001b[0mtrain_loss\u001b[0m \u001b[0;34m+=\u001b[0m \u001b[0mloss\u001b[0m\u001b[0;34m.\u001b[0m\u001b[0mitem\u001b[0m\u001b[0;34m(\u001b[0m\u001b[0;34m)\u001b[0m\u001b[0;34m\u001b[0m\u001b[0;34m\u001b[0m\u001b[0m\n",
            "\u001b[0;32m/usr/local/lib/python3.6/dist-packages/torch/optim/adam.py\u001b[0m in \u001b[0;36mstep\u001b[0;34m(self, closure)\u001b[0m\n\u001b[1;32m     99\u001b[0m                     \u001b[0mdenom\u001b[0m \u001b[0;34m=\u001b[0m \u001b[0mmax_exp_avg_sq\u001b[0m\u001b[0;34m.\u001b[0m\u001b[0msqrt\u001b[0m\u001b[0;34m(\u001b[0m\u001b[0;34m)\u001b[0m\u001b[0;34m.\u001b[0m\u001b[0madd_\u001b[0m\u001b[0;34m(\u001b[0m\u001b[0mgroup\u001b[0m\u001b[0;34m[\u001b[0m\u001b[0;34m'eps'\u001b[0m\u001b[0;34m]\u001b[0m\u001b[0;34m)\u001b[0m\u001b[0;34m\u001b[0m\u001b[0;34m\u001b[0m\u001b[0m\n\u001b[1;32m    100\u001b[0m                 \u001b[0;32melse\u001b[0m\u001b[0;34m:\u001b[0m\u001b[0;34m\u001b[0m\u001b[0;34m\u001b[0m\u001b[0m\n\u001b[0;32m--> 101\u001b[0;31m                     \u001b[0mdenom\u001b[0m \u001b[0;34m=\u001b[0m \u001b[0mexp_avg_sq\u001b[0m\u001b[0;34m.\u001b[0m\u001b[0msqrt\u001b[0m\u001b[0;34m(\u001b[0m\u001b[0;34m)\u001b[0m\u001b[0;34m.\u001b[0m\u001b[0madd_\u001b[0m\u001b[0;34m(\u001b[0m\u001b[0mgroup\u001b[0m\u001b[0;34m[\u001b[0m\u001b[0;34m'eps'\u001b[0m\u001b[0;34m]\u001b[0m\u001b[0;34m)\u001b[0m\u001b[0;34m\u001b[0m\u001b[0;34m\u001b[0m\u001b[0m\n\u001b[0m\u001b[1;32m    102\u001b[0m \u001b[0;34m\u001b[0m\u001b[0m\n\u001b[1;32m    103\u001b[0m                 \u001b[0mbias_correction1\u001b[0m \u001b[0;34m=\u001b[0m \u001b[0;36m1\u001b[0m \u001b[0;34m-\u001b[0m \u001b[0mbeta1\u001b[0m \u001b[0;34m**\u001b[0m \u001b[0mstate\u001b[0m\u001b[0;34m[\u001b[0m\u001b[0;34m'step'\u001b[0m\u001b[0;34m]\u001b[0m\u001b[0;34m\u001b[0m\u001b[0;34m\u001b[0m\u001b[0m\n",
            "\u001b[0;31mKeyboardInterrupt\u001b[0m: "
          ]
        }
      ]
    },
    {
      "cell_type": "code",
      "metadata": {
        "id": "ldHXiUlHb918",
        "colab_type": "code",
        "colab": {}
      },
      "source": [
        ""
      ],
      "execution_count": 0,
      "outputs": []
    },
    {
      "cell_type": "code",
      "metadata": {
        "id": "2uj83xwab94B",
        "colab_type": "code",
        "colab": {}
      },
      "source": [
        ""
      ],
      "execution_count": 0,
      "outputs": []
    },
    {
      "cell_type": "code",
      "metadata": {
        "id": "Z6pfIZv4b955",
        "colab_type": "code",
        "colab": {}
      },
      "source": [
        ""
      ],
      "execution_count": 0,
      "outputs": []
    }
  ]
}